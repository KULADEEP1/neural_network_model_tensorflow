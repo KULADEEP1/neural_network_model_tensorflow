{
 "cells": [
  {
   "cell_type": "code",
   "execution_count": 1,
   "id": "e2e032f0",
   "metadata": {},
   "outputs": [],
   "source": [
    "import numpy as np\n",
    "import tensorflow as tf\n",
    "from tensorflow import keras"
   ]
  },
  {
   "cell_type": "code",
   "execution_count": 2,
   "id": "018cb47d",
   "metadata": {},
   "outputs": [],
   "source": [
    "digit_data=tf.keras.datasets.mnist"
   ]
  },
  {
   "cell_type": "code",
   "execution_count": 3,
   "id": "befde5cb",
   "metadata": {},
   "outputs": [],
   "source": [
    "(x_train,y_train),(x_test,y_test)=digit_data.load_data()"
   ]
  },
  {
   "cell_type": "code",
   "execution_count": 4,
   "id": "9fd61849",
   "metadata": {},
   "outputs": [
    {
     "data": {
      "text/plain": [
       "(60000, 28, 28)"
      ]
     },
     "execution_count": 4,
     "metadata": {},
     "output_type": "execute_result"
    }
   ],
   "source": [
    "x_train.shape"
   ]
  },
  {
   "cell_type": "code",
   "execution_count": 5,
   "id": "dd21017d",
   "metadata": {},
   "outputs": [],
   "source": [
    "x_train=x_train/255\n",
    "x_test=x_test/255"
   ]
  },
  {
   "cell_type": "code",
   "execution_count": 6,
   "id": "8358c7a6",
   "metadata": {},
   "outputs": [],
   "source": [
    "model=tf.keras.Sequential([\n",
    "    tf.keras.layers.Flatten(input_shape=(28,28)),\n",
    "    tf.keras.layers.Dense(units=128,activation='relu'),\n",
    "    tf.keras.layers.Dense(units=128,activation='relu'),\n",
    "    tf.keras.layers.Dense(units=10,activation='softmax'),\n",
    "])"
   ]
  },
  {
   "cell_type": "code",
   "execution_count": 7,
   "id": "9dc4d9cd",
   "metadata": {},
   "outputs": [],
   "source": [
    "model.compile(optimizer='adam',loss='sparse_categorical_crossentropy',metrics=['accuracy'])"
   ]
  },
  {
   "cell_type": "code",
   "execution_count": 8,
   "id": "80f01e29",
   "metadata": {},
   "outputs": [
    {
     "name": "stdout",
     "output_type": "stream",
     "text": [
      "Epoch 1/3\n",
      "1875/1875 [==============================] - 5s 2ms/step - loss: 0.2304 - accuracy: 0.9323\n",
      "Epoch 2/3\n",
      "1875/1875 [==============================] - 4s 2ms/step - loss: 0.1010 - accuracy: 0.9682\n",
      "Epoch 3/3\n",
      "1875/1875 [==============================] - 4s 2ms/step - loss: 0.0701 - accuracy: 0.9779\n"
     ]
    },
    {
     "data": {
      "text/plain": [
       "<keras.callbacks.History at 0x2d1bbeece80>"
      ]
     },
     "execution_count": 8,
     "metadata": {},
     "output_type": "execute_result"
    }
   ],
   "source": [
    "model.fit(x_train,y_train,epochs=3)"
   ]
  },
  {
   "cell_type": "code",
   "execution_count": 9,
   "id": "df688294",
   "metadata": {},
   "outputs": [
    {
     "name": "stdout",
     "output_type": "stream",
     "text": [
      "Model: \"sequential\"\n",
      "_________________________________________________________________\n",
      " Layer (type)                Output Shape              Param #   \n",
      "=================================================================\n",
      " flatten (Flatten)           (None, 784)               0         \n",
      "                                                                 \n",
      " dense (Dense)               (None, 128)               100480    \n",
      "                                                                 \n",
      " dense_1 (Dense)             (None, 128)               16512     \n",
      "                                                                 \n",
      " dense_2 (Dense)             (None, 10)                1290      \n",
      "                                                                 \n",
      "=================================================================\n",
      "Total params: 118,282\n",
      "Trainable params: 118,282\n",
      "Non-trainable params: 0\n",
      "_________________________________________________________________\n"
     ]
    }
   ],
   "source": [
    "model.summary()"
   ]
  },
  {
   "cell_type": "code",
   "execution_count": 10,
   "id": "27d31dd5",
   "metadata": {},
   "outputs": [
    {
     "name": "stdout",
     "output_type": "stream",
     "text": [
      "313/313 [==============================] - 0s 1ms/step - loss: 0.0879 - accuracy: 0.9726\n"
     ]
    },
    {
     "data": {
      "text/plain": [
       "[0.08790992200374603, 0.972599983215332]"
      ]
     },
     "execution_count": 10,
     "metadata": {},
     "output_type": "execute_result"
    }
   ],
   "source": [
    "model.evaluate(x_test,y_test)"
   ]
  },
  {
   "cell_type": "code",
   "execution_count": 24,
   "id": "f9b6eefa",
   "metadata": {},
   "outputs": [
    {
     "name": "stdout",
     "output_type": "stream",
     "text": [
      "313/313 [==============================] - 1s 2ms/step\n"
     ]
    }
   ],
   "source": [
    "pred=model.predict(x_test)"
   ]
  },
  {
   "cell_type": "code",
   "execution_count": 25,
   "id": "ebef260d",
   "metadata": {},
   "outputs": [
    {
     "data": {
      "text/plain": [
       "array([[6.0217985e-08, 1.4267094e-07, 2.2052784e-05, ..., 9.9997413e-01,\n",
       "        4.2331428e-07, 2.2454187e-06],\n",
       "       [6.0443241e-11, 1.5566191e-05, 9.9998438e-01, ..., 3.7726572e-11,\n",
       "        1.1921924e-08, 2.5396991e-13],\n",
       "       [3.5817736e-06, 9.9386048e-01, 2.6136907e-04, ..., 4.1332829e-04,\n",
       "        5.1046168e-03, 2.7980409e-06],\n",
       "       ...,\n",
       "       [1.1851401e-12, 1.5870451e-09, 2.0760669e-11, ..., 3.1681388e-06,\n",
       "        2.4303775e-08, 3.7917475e-06],\n",
       "       [2.8955617e-07, 2.0963077e-10, 1.6021315e-10, ..., 3.3336112e-10,\n",
       "        6.3616120e-05, 1.3676288e-10],\n",
       "       [4.2594706e-10, 8.1316325e-12, 1.9329203e-09, ..., 2.9843550e-15,\n",
       "        2.2752604e-10, 5.3762556e-10]], dtype=float32)"
      ]
     },
     "execution_count": 25,
     "metadata": {},
     "output_type": "execute_result"
    }
   ],
   "source": [
    "pred"
   ]
  },
  {
   "cell_type": "code",
   "execution_count": 19,
   "id": "c922a393",
   "metadata": {},
   "outputs": [
    {
     "data": {
      "text/plain": [
       "(10000, 28, 28)"
      ]
     },
     "execution_count": 19,
     "metadata": {},
     "output_type": "execute_result"
    }
   ],
   "source": [
    "x_test.shape"
   ]
  },
  {
   "cell_type": "code",
   "execution_count": 28,
   "id": "b408eb67",
   "metadata": {},
   "outputs": [
    {
     "data": {
      "text/plain": [
       "array([[[0., 0., 0., ..., 0., 0., 0.],\n",
       "        [0., 0., 0., ..., 0., 0., 0.],\n",
       "        [0., 0., 0., ..., 0., 0., 0.],\n",
       "        ...,\n",
       "        [0., 0., 0., ..., 0., 0., 0.],\n",
       "        [0., 0., 0., ..., 0., 0., 0.],\n",
       "        [0., 0., 0., ..., 0., 0., 0.]],\n",
       "\n",
       "       [[0., 0., 0., ..., 0., 0., 0.],\n",
       "        [0., 0., 0., ..., 0., 0., 0.],\n",
       "        [0., 0., 0., ..., 0., 0., 0.],\n",
       "        ...,\n",
       "        [0., 0., 0., ..., 0., 0., 0.],\n",
       "        [0., 0., 0., ..., 0., 0., 0.],\n",
       "        [0., 0., 0., ..., 0., 0., 0.]],\n",
       "\n",
       "       [[0., 0., 0., ..., 0., 0., 0.],\n",
       "        [0., 0., 0., ..., 0., 0., 0.],\n",
       "        [0., 0., 0., ..., 0., 0., 0.],\n",
       "        ...,\n",
       "        [0., 0., 0., ..., 0., 0., 0.],\n",
       "        [0., 0., 0., ..., 0., 0., 0.],\n",
       "        [0., 0., 0., ..., 0., 0., 0.]],\n",
       "\n",
       "       ...,\n",
       "\n",
       "       [[0., 0., 0., ..., 0., 0., 0.],\n",
       "        [0., 0., 0., ..., 0., 0., 0.],\n",
       "        [0., 0., 0., ..., 0., 0., 0.],\n",
       "        ...,\n",
       "        [0., 0., 0., ..., 0., 0., 0.],\n",
       "        [0., 0., 0., ..., 0., 0., 0.],\n",
       "        [0., 0., 0., ..., 0., 0., 0.]],\n",
       "\n",
       "       [[0., 0., 0., ..., 0., 0., 0.],\n",
       "        [0., 0., 0., ..., 0., 0., 0.],\n",
       "        [0., 0., 0., ..., 0., 0., 0.],\n",
       "        ...,\n",
       "        [0., 0., 0., ..., 0., 0., 0.],\n",
       "        [0., 0., 0., ..., 0., 0., 0.],\n",
       "        [0., 0., 0., ..., 0., 0., 0.]],\n",
       "\n",
       "       [[0., 0., 0., ..., 0., 0., 0.],\n",
       "        [0., 0., 0., ..., 0., 0., 0.],\n",
       "        [0., 0., 0., ..., 0., 0., 0.],\n",
       "        ...,\n",
       "        [0., 0., 0., ..., 0., 0., 0.],\n",
       "        [0., 0., 0., ..., 0., 0., 0.],\n",
       "        [0., 0., 0., ..., 0., 0., 0.]]])"
      ]
     },
     "execution_count": 28,
     "metadata": {},
     "output_type": "execute_result"
    }
   ],
   "source": [
    "x_test"
   ]
  },
  {
   "cell_type": "code",
   "execution_count": 29,
   "id": "8bd58980",
   "metadata": {},
   "outputs": [
    {
     "name": "stdout",
     "output_type": "stream",
     "text": [
      "1/1 [==============================] - 0s 18ms/step\n"
     ]
    },
    {
     "data": {
      "text/plain": [
       "array([[6.0218220e-08, 1.4267148e-07, 2.2052867e-05, 9.6282645e-07,\n",
       "        1.0331239e-09, 8.2842586e-09, 4.5772620e-13, 9.9997413e-01,\n",
       "        4.2331550e-07, 2.2454271e-06]], dtype=float32)"
      ]
     },
     "execution_count": 29,
     "metadata": {},
     "output_type": "execute_result"
    }
   ],
   "source": [
    "pred1=model.predict(x_test[0].reshape(1,(28*28)))\n",
    "pred1"
   ]
  },
  {
   "cell_type": "code",
   "execution_count": 30,
   "id": "968b984c",
   "metadata": {},
   "outputs": [
    {
     "data": {
      "text/plain": [
       "7"
      ]
     },
     "execution_count": 30,
     "metadata": {},
     "output_type": "execute_result"
    }
   ],
   "source": [
    "output=np.argmax(pred1)\n",
    "output"
   ]
  },
  {
   "cell_type": "code",
   "execution_count": 31,
   "id": "ba32a407",
   "metadata": {},
   "outputs": [
    {
     "data": {
      "text/plain": [
       "7"
      ]
     },
     "execution_count": 31,
     "metadata": {},
     "output_type": "execute_result"
    }
   ],
   "source": [
    "y_test[0]"
   ]
  },
  {
   "cell_type": "code",
   "execution_count": 37,
   "id": "514dff11",
   "metadata": {},
   "outputs": [],
   "source": [
    "[layer0,layer1,layer2,layer3]=model.layers"
   ]
  },
  {
   "cell_type": "code",
   "execution_count": 42,
   "id": "82d894d7",
   "metadata": {},
   "outputs": [
    {
     "data": {
      "text/plain": [
       "((784, 128), (128,))"
      ]
     },
     "execution_count": 42,
     "metadata": {},
     "output_type": "execute_result"
    }
   ],
   "source": [
    "w1,b1=layer1.get_weights()\n",
    "w1.shape,b1.shape\n"
   ]
  },
  {
   "cell_type": "code",
   "execution_count": 43,
   "id": "1f37e162",
   "metadata": {},
   "outputs": [
    {
     "data": {
      "text/plain": [
       "array([[-0.00210391,  0.04293592,  0.0607402 , ...,  0.02843244,\n",
       "        -0.02638707, -0.01025156],\n",
       "       [ 0.04691888,  0.04483072, -0.02031357, ...,  0.03484236,\n",
       "        -0.06412803,  0.00795659],\n",
       "       [ 0.06870658, -0.01950204, -0.05619528, ...,  0.01935007,\n",
       "         0.01364766,  0.06182794],\n",
       "       ...,\n",
       "       [ 0.06102618, -0.03333267,  0.07931969, ...,  0.02949534,\n",
       "        -0.02131798, -0.02083075],\n",
       "       [-0.00753486,  0.03074728, -0.05238571, ..., -0.01378347,\n",
       "        -0.00649446, -0.05013729],\n",
       "       [-0.01233509,  0.00812794,  0.02290165, ..., -0.04301451,\n",
       "         0.06198902, -0.00215083]], dtype=float32)"
      ]
     },
     "execution_count": 43,
     "metadata": {},
     "output_type": "execute_result"
    }
   ],
   "source": [
    "w1"
   ]
  },
  {
   "cell_type": "code",
   "execution_count": 44,
   "id": "5a4c2636",
   "metadata": {},
   "outputs": [
    {
     "data": {
      "text/plain": [
       "array([ 0.03678573, -0.00854668,  0.03291686,  0.00326475,  0.02882801,\n",
       "        0.03842764, -0.01033636, -0.02590692,  0.04275075,  0.02857211,\n",
       "       -0.02005202,  0.07294469,  0.00368551, -0.00432341, -0.0203963 ,\n",
       "        0.0096529 ,  0.03213898,  0.0672378 ,  0.02917682, -0.0443019 ,\n",
       "       -0.03034591, -0.00601856,  0.01127926,  0.04637001, -0.0161631 ,\n",
       "       -0.0041377 , -0.01903386,  0.02078686,  0.01788306,  0.00815015,\n",
       "        0.03299681,  0.02803469, -0.04443457,  0.00421833, -0.05858614,\n",
       "       -0.07724669,  0.05919311, -0.01484247,  0.03163716,  0.00478456,\n",
       "       -0.00785285,  0.0498717 ,  0.0390791 , -0.04300454, -0.06219972,\n",
       "        0.00244221, -0.00660805, -0.05427959,  0.03178621, -0.012999  ,\n",
       "        0.01310879, -0.04829749, -0.01165782,  0.03944688,  0.13751735,\n",
       "        0.05831069, -0.03452552,  0.06860468,  0.11913384,  0.05189932,\n",
       "        0.06229698, -0.04985052,  0.02405809,  0.04016732, -0.038481  ,\n",
       "        0.02193066,  0.10298447,  0.04363297,  0.11477603,  0.02630146,\n",
       "        0.11609537,  0.08406316, -0.014542  ,  0.01681449, -0.01961343,\n",
       "       -0.00637016, -0.05993723,  0.06912842,  0.07380039, -0.04065075,\n",
       "        0.07519181,  0.0006948 , -0.04008976, -0.00445827,  0.05853488,\n",
       "        0.00138003,  0.03667027, -0.08453646,  0.04866638,  0.11954469,\n",
       "        0.02790285,  0.09482587,  0.07495722,  0.08402845, -0.00562588,\n",
       "        0.05572569,  0.00603587,  0.00658876, -0.03213377,  0.03476859,\n",
       "        0.01654356,  0.01357853,  0.03403861, -0.00900981,  0.04988568,\n",
       "        0.04284255,  0.09256284,  0.01275796,  0.03317813, -0.00455038,\n",
       "       -0.02100744, -0.04230515, -0.0103804 ,  0.05577185, -0.02380087,\n",
       "        0.0411471 ,  0.06525435, -0.05056047, -0.02717518, -0.02047385,\n",
       "        0.1133891 ,  0.0616919 , -0.00633395,  0.05951351,  0.06955236,\n",
       "       -0.03115071,  0.01262541,  0.02957755], dtype=float32)"
      ]
     },
     "execution_count": 44,
     "metadata": {},
     "output_type": "execute_result"
    }
   ],
   "source": [
    "b1"
   ]
  },
  {
   "cell_type": "code",
   "execution_count": null,
   "id": "ff968415",
   "metadata": {},
   "outputs": [],
   "source": []
  }
 ],
 "metadata": {
  "kernelspec": {
   "display_name": "Python 3 (ipykernel)",
   "language": "python",
   "name": "python3"
  },
  "language_info": {
   "codemirror_mode": {
    "name": "ipython",
    "version": 3
   },
   "file_extension": ".py",
   "mimetype": "text/x-python",
   "name": "python",
   "nbconvert_exporter": "python",
   "pygments_lexer": "ipython3",
   "version": "3.9.12"
  }
 },
 "nbformat": 4,
 "nbformat_minor": 5
}
